{
  "nbformat": 4,
  "nbformat_minor": 0,
  "metadata": {
    "colab": {
      "name": "WPR.ipynb",
      "provenance": [],
      "collapsed_sections": []
    },
    "kernelspec": {
      "name": "python3",
      "display_name": "Python 3"
    }
  },
  "cells": [
    {
      "cell_type": "markdown",
      "metadata": {
        "id": "wlA3KLGSAhu3"
      },
      "source": [
        "Para calcular el pageRank de cualquier matriz se pide emplear una funcion llamada pageRank que reciba como argumentos la matriz G y un damping factor seteado por defecto en 0,85. Para esto primero importamos las librerías a utilizar\n",
        "\n",
        "\n",
        "---\n",
        "\n",
        "*Para efectos de google.colab se deben 'correr' todas las celdas de código en orden, si no arrojará error ya que no lee celdas anteriores*"
      ]
    },
    {
      "cell_type": "code",
      "metadata": {
        "id": "nNG7V32Sahmk"
      },
      "source": [
        "import numpy as np\n",
        "import scipy.linalg as la"
      ],
      "execution_count": null,
      "outputs": []
    },
    {
      "cell_type": "markdown",
      "metadata": {
        "id": "8ArAiYSJA4ew"
      },
      "source": [
        "Luego se crea la función pageRank. El funcionamiento de la función se explica comentado en el código."
      ]
    },
    {
      "cell_type": "code",
      "metadata": {
        "id": "E7DdhpHMa0d1"
      },
      "source": [
        "#primero se define la función con el nombre y argumentos pedidos\n",
        "def pageRank(G, d=0.85): \n",
        "  #Luego se necesita calcular la suma de todos los pesos por cada columna\n",
        "  #para eso se va a crear una lista llamada suma_columnas donde en cada \n",
        "  #columna de esta lista se almacena la suma de los pesos por columnas de todas\n",
        "  #las filas de la columna G ingresada a la función\n",
        "  suma_columnas = []\n",
        "\n",
        "  #En los siguientes ciclos for se va a recorrer toda la matriz (filas -> i, columnas -> j)\n",
        "  for i in range(len(G)):\n",
        "    suma = 0 #se crea un acumulador donde se iran guardando la suma de los pesos\n",
        "    for j in range(len(G)):\n",
        "      suma = suma + G[j][i]\n",
        "    suma_columnas.append(suma) #la suma final se agrega en la lista\n",
        "\n",
        "  #luego vamos a recorrer la matriz nuevamente cambiando los valores de la matriz\n",
        "  for fila in range(len(G)):\n",
        "    for columna in range(len(G)):\n",
        "      #si el valor en la matriz original era 0,\n",
        "      #ahora se cambia a (1-d)/n donde n es la cantidad de nodos\n",
        "      if G[fila][columna] == 0: \n",
        "        G[fila][columna] = (1-d)/len(G)\n",
        "      #si el valor de la matriz original es distinta de cero se cambia ese valor por\n",
        "      #(1-d)/n + Win*d/Sum_W donde Win es el peso del link que sale del nodo j y entra al nodo i(valor de la matriz en es punto)\n",
        "      #y Sum_W es la suma de los pesos de todos los links que salen del nodo j(suma de todos los pesos de esa columna)\n",
        "      elif G[fila][columna] != 0:\n",
        "        G[fila][columna] = (1-d)/len(G) + G[fila][columna]*d/suma_columnas[columna]\n",
        "\n",
        "  #Asi podemos reescribir la matriz G automaticamente sumando las contribuciones del damping factor\n",
        "  #por lo que podemos calcular el PageRank tal como lo vimos en clases\n",
        "  valG, UG = la.eig(G) \n",
        "  w = UG[:, 0]\n",
        "  pr = np.absolute(UG[:, 0]/la.norm(UG[:, 0], 1))\n",
        "  return pr"
      ],
      "execution_count": null,
      "outputs": []
    },
    {
      "cell_type": "markdown",
      "metadata": {
        "id": "aLc4ueuICwQM"
      },
      "source": [
        "Para probar que está bien, definimos la matriz G dada en el enunciado de la tarea y la probamos con un damping factor de 0,85 y 0,1 obteniendo aproximadamente los mismos resultados mostrados en la tarea. Se puede ver que los resultados en comparación a la tarea son similares, solo tienen una diferencia de +- 0.001 (1%) lo que consideramos despreciable para esta aplicación."
      ]
    },
    {
      "cell_type": "code",
      "metadata": {
        "id": "Y6B0-LaHlYzG",
        "colab": {
          "base_uri": "https://localhost:8080/"
        },
        "outputId": "b77362ba-7c2e-4632-a25c-841a8518757b"
      },
      "source": [
        "G = np.array([[0, 1, 0, 0, 0, 0, 0, 0],\n",
        "              [1, 0, 0, 1, 0, 0, 0, 0],\n",
        "              [0, 1, 0, 0, 1, 1, 1, 1],\n",
        "              [0, 0, 0, 0, 1, 0, 1, 1],\n",
        "              [0, 0, 0, 1, 0, 0, 0, 0],\n",
        "              [0, 0, 1, 0, 1, 0, 0, 0],\n",
        "              [0, 0, 0, 0, 0, 0, 0, 0],\n",
        "              [0, 0, 0, 1, 1, 0, 0, 0]\n",
        "              ], dtype=float)\n",
        "\n",
        "print(pageRank(G))\n",
        "print(pageRank(G, .1))"
      ],
      "execution_count": null,
      "outputs": [
        {
          "output_type": "stream",
          "text": [
            "[0.05141623 0.07686172 0.37997977 0.0508515  0.03315793 0.34877886\n",
            " 0.01875    0.04020399]\n",
            "[0.11982156 0.12815428 0.14327974 0.12686303 0.11796945 0.12906063\n",
            " 0.114375   0.1204763 ]\n"
          ],
          "name": "stdout"
        }
      ]
    },
    {
      "cell_type": "markdown",
      "metadata": {
        "id": "36vmbg6jC8Ls"
      },
      "source": [
        "A continuación probamos el caso donde se cambian las ponderaciones para cambiar la importancia de los nodos, obteniendo los resultados esperados"
      ]
    },
    {
      "cell_type": "code",
      "metadata": {
        "id": "18kjA7A7ljYL",
        "colab": {
          "base_uri": "https://localhost:8080/"
        },
        "outputId": "5963a6c6-b093-4387-adb2-3a90d403b3fe"
      },
      "source": [
        "H = np.array([[0, 1, 0, 0, 0, 0, 0, 0],\n",
        "              [1, 0, 0, 1, 0, 0, 0, 0],\n",
        "              [0, 0.001, 0, 0, 0.001, 0.001, 0.001, 0.001],\n",
        "              [0, 0, 0, 0, 1, 0, 1, 1],\n",
        "              [0, 0, 0, 1, 0, 0, 0, 0],\n",
        "              [0, 0, 1, 0, 1, 0, 0, 0],\n",
        "              [0, 0, 0, 0, 0, 0, 0, 0],\n",
        "              [0, 0, 0, 1, 1, 0, 0, 0]\n",
        "              ], dtype=float)\n",
        "\n",
        "print(pageRank(H))"
      ],
      "execution_count": null,
      "outputs": [
        {
          "output_type": "stream",
          "text": [
            "[0.21012051 0.22536691 0.16655023 0.09887465 0.04676448 0.17356322\n",
            " 0.01875    0.06001001]\n"
          ],
          "name": "stdout"
        }
      ]
    },
    {
      "cell_type": "markdown",
      "metadata": {
        "id": "rthfU8eDDDp9"
      },
      "source": [
        "Finalmente para la pregunta 2.4 se debe utilizar la función pageRank descrita anteriormente con 2 datasets dados para calcular el nodo con mayor pageRank en cada caso.\n",
        "\n",
        "Para esto se debe utilizar la función dada llamada fromFiletoMatrix donde se le entrega un archivo .txt devolviendo una matriz que se puede ingresar en la función pageRank.\n",
        "\n",
        "\n",
        "\n",
        "---\n",
        "\n",
        "\n",
        "\n",
        "*Para efectos específicos del uso de google.colab se deben subir los archivos del dataset cada vez que se quiera ejecutar el código, ya que se está ejecutando en la nube y no google.colab guarda archivos. Además se debe copiar la ruta del archivo tal como esta en el código al aplicarlo en la función fromFiletoMatrix*\n",
        "\n"
      ]
    },
    {
      "cell_type": "code",
      "metadata": {
        "id": "T2BicXyv7n_B",
        "colab": {
          "base_uri": "https://localhost:8080/",
          "height": 351
        },
        "outputId": "0066aa89-7e0d-446b-99be-5687a9034baa"
      },
      "source": [
        "#La funcion fromFiletoMatrix recibe como argumentos el archivo que contiene el grafo dirigido \n",
        "#(como lista de arcos) y la cantidad de nodos del grafo y retorna\n",
        "#la representación como matriz del grafo (traspuesta de la matriz de adyacencia)\n",
        "def fromFiletoMatrix(file, num_nodes):\n",
        "    G = np.zeros((num_nodes, num_nodes))\n",
        "    f = open(file, 'r')\n",
        "    for line in f:\n",
        "        arc = line.split()\n",
        "        G[int(arc[1])-1, int(arc[0])-1] = 1.0\n",
        "    f.close()\n",
        "    return G\n",
        "\n",
        "#Primero calculamos el pageRank de cada matriz\n",
        "PR1 = pageRank(fromFiletoMatrix('/content/email-Eu-core-temporal-norm.txt', 986))\n",
        "PR2 = pageRank(fromFiletoMatrix('/content/wiki-Vote-norm.txt', 7115))\n",
        "\n",
        "#Además podemos encontrar el valor del máximo pageRank de cada dataset\n",
        "maxPR1 = max(PR1)\n",
        "maxPR2 = max(PR2)\n",
        "\n",
        "#Finalmente para encontrar el nodo en el que está ubicado el mayor pageRank podemos usar la funcion np.where de numpy\n",
        "nodo1 = np.where(max(PR1) == PR1)\n",
        "nodo2 = np.where(max(PR2) == PR2)\n",
        "\n",
        "#imprimimos en pantalla el valor del nodo con pageRank mayor (página más recomendada)\n",
        "#Al imprimir en pantalla se debe sumar uno ya que la lista parte desde 0\n",
        "print(nodo1[0]+1)\n",
        "print(nodo2[0]+1)"
      ],
      "execution_count": null,
      "outputs": [
        {
          "output_type": "error",
          "ename": "FileNotFoundError",
          "evalue": "ignored",
          "traceback": [
            "\u001b[0;31m---------------------------------------------------------------------------\u001b[0m",
            "\u001b[0;31mFileNotFoundError\u001b[0m                         Traceback (most recent call last)",
            "\u001b[0;32m<ipython-input-13-fbcf67cb8bd2>\u001b[0m in \u001b[0;36m<module>\u001b[0;34m()\u001b[0m\n\u001b[1;32m     12\u001b[0m \u001b[0;34m\u001b[0m\u001b[0m\n\u001b[1;32m     13\u001b[0m \u001b[0;31m#Primero calculamos el pageRank de cada matriz\u001b[0m\u001b[0;34m\u001b[0m\u001b[0;34m\u001b[0m\u001b[0;34m\u001b[0m\u001b[0m\n\u001b[0;32m---> 14\u001b[0;31m \u001b[0mPR1\u001b[0m \u001b[0;34m=\u001b[0m \u001b[0mpageRank\u001b[0m\u001b[0;34m(\u001b[0m\u001b[0mfromFiletoMatrix\u001b[0m\u001b[0;34m(\u001b[0m\u001b[0;34m'/content/email-Eu-core-temporal-norm.txt'\u001b[0m\u001b[0;34m,\u001b[0m \u001b[0;36m986\u001b[0m\u001b[0;34m)\u001b[0m\u001b[0;34m)\u001b[0m\u001b[0;34m\u001b[0m\u001b[0;34m\u001b[0m\u001b[0m\n\u001b[0m\u001b[1;32m     15\u001b[0m \u001b[0mPR2\u001b[0m \u001b[0;34m=\u001b[0m \u001b[0mpageRank\u001b[0m\u001b[0;34m(\u001b[0m\u001b[0mfromFiletoMatrix\u001b[0m\u001b[0;34m(\u001b[0m\u001b[0;34m'/content/wiki-Vote-norm.txt'\u001b[0m\u001b[0;34m,\u001b[0m \u001b[0;36m7115\u001b[0m\u001b[0;34m)\u001b[0m\u001b[0;34m)\u001b[0m\u001b[0;34m\u001b[0m\u001b[0;34m\u001b[0m\u001b[0m\n\u001b[1;32m     16\u001b[0m \u001b[0;34m\u001b[0m\u001b[0m\n",
            "\u001b[0;32m<ipython-input-13-fbcf67cb8bd2>\u001b[0m in \u001b[0;36mfromFiletoMatrix\u001b[0;34m(file, num_nodes)\u001b[0m\n\u001b[1;32m      4\u001b[0m \u001b[0;32mdef\u001b[0m \u001b[0mfromFiletoMatrix\u001b[0m\u001b[0;34m(\u001b[0m\u001b[0mfile\u001b[0m\u001b[0;34m,\u001b[0m \u001b[0mnum_nodes\u001b[0m\u001b[0;34m)\u001b[0m\u001b[0;34m:\u001b[0m\u001b[0;34m\u001b[0m\u001b[0;34m\u001b[0m\u001b[0m\n\u001b[1;32m      5\u001b[0m     \u001b[0mG\u001b[0m \u001b[0;34m=\u001b[0m \u001b[0mnp\u001b[0m\u001b[0;34m.\u001b[0m\u001b[0mzeros\u001b[0m\u001b[0;34m(\u001b[0m\u001b[0;34m(\u001b[0m\u001b[0mnum_nodes\u001b[0m\u001b[0;34m,\u001b[0m \u001b[0mnum_nodes\u001b[0m\u001b[0;34m)\u001b[0m\u001b[0;34m)\u001b[0m\u001b[0;34m\u001b[0m\u001b[0;34m\u001b[0m\u001b[0m\n\u001b[0;32m----> 6\u001b[0;31m     \u001b[0mf\u001b[0m \u001b[0;34m=\u001b[0m \u001b[0mopen\u001b[0m\u001b[0;34m(\u001b[0m\u001b[0mfile\u001b[0m\u001b[0;34m,\u001b[0m \u001b[0;34m'r'\u001b[0m\u001b[0;34m)\u001b[0m\u001b[0;34m\u001b[0m\u001b[0;34m\u001b[0m\u001b[0m\n\u001b[0m\u001b[1;32m      7\u001b[0m     \u001b[0;32mfor\u001b[0m \u001b[0mline\u001b[0m \u001b[0;32min\u001b[0m \u001b[0mf\u001b[0m\u001b[0;34m:\u001b[0m\u001b[0;34m\u001b[0m\u001b[0;34m\u001b[0m\u001b[0m\n\u001b[1;32m      8\u001b[0m         \u001b[0marc\u001b[0m \u001b[0;34m=\u001b[0m \u001b[0mline\u001b[0m\u001b[0;34m.\u001b[0m\u001b[0msplit\u001b[0m\u001b[0;34m(\u001b[0m\u001b[0;34m)\u001b[0m\u001b[0;34m\u001b[0m\u001b[0;34m\u001b[0m\u001b[0m\n",
            "\u001b[0;31mFileNotFoundError\u001b[0m: [Errno 2] No such file or directory: '/content/email-Eu-core-temporal-norm.txt'"
          ]
        }
      ]
    }
  ]
}